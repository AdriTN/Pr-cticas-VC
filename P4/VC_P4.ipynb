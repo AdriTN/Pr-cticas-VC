{
 "cells": [
  {
   "cell_type": "markdown",
   "metadata": {},
   "source": [
    "Tarea: Detectar y seguir personas y vehículos."
   ]
  },
  {
   "cell_type": "code",
   "execution_count": null,
   "metadata": {},
   "outputs": [],
   "source": [
    "# Importamos las librerías necesarias y cargamos los modelos pre-entrenados.\n",
    "import cv2\n",
    "import torch\n",
    "import numpy as np\n",
    "import pandas as pd\n",
    "import pytesseract\n",
    "from ultralytics import YOLO\n",
    "from collections import deque\n",
    "\n",
    "# Configurar Tesseract\n",
    "pytesseract.pytesseract.tesseract_cmd = r'C:\\Program Files\\Tesseract-OCR\\tesseract.exe'  # Cambia la ruta si es necesario\n",
    "\n",
    "# Cargar el modelo YOLO para detección y seguimiento\n",
    "model_detection = YOLO('yolov8n.pt')  # Puedes cambiar a 'yolov11n.pt' si lo tienes\n",
    "\n",
    "# Inicializar EasyOCR\n",
    "import easyocr\n",
    "reader = easyocr.Reader(['en'], gpu=torch.cuda.is_available())\n"
   ]
  }
 ],
 "metadata": {
  "kernelspec": {
   "display_name": "VC_P4",
   "language": "python",
   "name": "python3"
  },
  "language_info": {
   "name": "python",
   "version": "3.9.5"
  }
 },
 "nbformat": 4,
 "nbformat_minor": 2
}
