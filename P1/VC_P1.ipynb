{
 "cells": [
  {
   "cell_type": "markdown",
   "metadata": {},
   "source": [
    "ADRIÁN TALAVERA NARANJO y ARHAMIS GUTIÉRREZ CABALLERO"
   ]
  },
  {
   "cell_type": "markdown",
   "metadata": {},
   "source": [
    "TAREA 1: Crea una imagen, p.e. de 800x800 píxeles, con la textura del tablero de ajedrez"
   ]
  },
  {
   "cell_type": "code",
   "execution_count": 1,
   "metadata": {},
   "outputs": [],
   "source": [
    "import numpy as np\n",
    "import matplotlib.pyplot as plt"
   ]
  },
  {
   "cell_type": "code",
   "execution_count": 3,
   "metadata": {},
   "outputs": [],
   "source": [
    "# Especificamos las dimensiones de la imagen a crear y el tamaño de los cuadrados\n",
    "width = 800\n",
    "height = 800\n",
    "square_size = 100"
   ]
  },
  {
   "cell_type": "code",
   "execution_count": 4,
   "metadata": {},
   "outputs": [],
   "source": [
    "# Crear un array vacío para el tablero\n",
    "chessboard = np.zeros((height, width, 3), dtype=np.uint8)"
   ]
  },
  {
   "cell_type": "code",
   "execution_count": 5,
   "metadata": {},
   "outputs": [],
   "source": [
    "# Dibujar las casillas del tablero\n",
    "for i in range(0, width, square_size):\n",
    "    for j in range(0, height, square_size):\n",
    "        # Determinar si la casilla debe ser negra o blanca\n",
    "        if (i // square_size) % 2 == (j // square_size) % 2:\n",
    "            chessboard[i:i+square_size, j:j+square_size] = [255, 255, 255]  # Blanco\n",
    "        else:\n",
    "            chessboard[i:i+square_size, j:j+square_size] = [0, 0, 0]        # Negro\n"
   ]
  },
  {
   "cell_type": "code",
   "execution_count": null,
   "metadata": {},
   "outputs": [],
   "source": [
    "# Mostrar la imagen con matplotlib\n",
    "plt.imshow(chessboard)\n",
    "plt.axis('off')  # Ocultar los ejes\n",
    "plt.show()"
   ]
  },
  {
   "cell_type": "markdown",
   "metadata": {},
   "source": [
    "TAREA 2: Crear una imagen estilo Mondrian"
   ]
  },
  {
   "cell_type": "code",
   "execution_count": 204,
   "metadata": {},
   "outputs": [],
   "source": [
    "# Crear una imagen en blanco\n",
    "mondrian = np.zeros ((height, width, 3), dtype=np.uint8) * 255"
   ]
  },
  {
   "cell_type": "code",
   "execution_count": 205,
   "metadata": {},
   "outputs": [],
   "source": [
    "# Colores característicos del estilo Mondrian (RGB)\n",
    "colors = {\n",
    "    \"red\": [255, 0, 0],\n",
    "    \"blue\": [0, 0, 255],\n",
    "    \"yellow\": [255, 255, 0],\n",
    "    \"white\": [255, 255, 255]\n",
    "}"
   ]
  },
  {
   "cell_type": "code",
   "execution_count": 206,
   "metadata": {},
   "outputs": [],
   "source": [
    "# Grosor de las líneas negras\n",
    "black_line_thickness = 10"
   ]
  },
  {
   "cell_type": "code",
   "execution_count": 207,
   "metadata": {},
   "outputs": [],
   "source": [
    "# Importamos el módulo random para generar valores aleatorios que determinan las posiciones y tamaños de los bloques de colores\n",
    "import random"
   ]
  },
  {
   "cell_type": "code",
   "execution_count": 208,
   "metadata": {},
   "outputs": [],
   "source": [
    "# Dibujar bloques de colores y líneas negras\n",
    "for _ in range(10):  # Crear 10 bloques aleatorios\n",
    "    x1 = random.randint(0, width - 100)\n",
    "    y1 = random.randint(0, height - 100)\n",
    "    x2 = random.randint(x1 + 50, width)\n",
    "    y2 = random.randint(y1 + 50, height)\n",
    "    \n",
    "    # Escoger un color aleatorio\n",
    "    color = random.choice(list(colors.values()))\n",
    "    \n",
    "    # Llenar el área seleccionada con el color\n",
    "    mondrian[y1:y2, x1:x2] = color\n",
    "    \n",
    "    # Dibujar las líneas negras alrededor del bloque\n",
    "    mondrian[y1:y1 + black_line_thickness, x1:x2] = [0, 0, 0]  # Línea superior\n",
    "    mondrian[y2 - black_line_thickness:y2, x1:x2] = [0, 0, 0]  # Línea inferior\n",
    "    mondrian[y1:y2, x1:x1 + black_line_thickness] = [0, 0, 0]  # Línea izquierda\n",
    "    mondrian[y1:y2, x2 - black_line_thickness:x2] = [0, 0, 0]  # Línea derecha"
   ]
  },
  {
   "cell_type": "code",
   "execution_count": null,
   "metadata": {},
   "outputs": [],
   "source": [
    "# Mostrar la imagen con matplotlib\n",
    "plt.imshow(mondrian)\n",
    "plt.axis('off')  # Ocultar los ejes\n",
    "plt.show()"
   ]
  },
  {
   "cell_type": "markdown",
   "metadata": {},
   "source": [
    "TAREA 3.1: Resuelve una de las tareas previas (a elegir) con las funciones de dibujo de OpenCV (Tablero de ajedrez)"
   ]
  },
  {
   "cell_type": "code",
   "execution_count": 210,
   "metadata": {},
   "outputs": [],
   "source": [
    "# Importamos el módulo cv2 para usar las funciones de dibujo\n",
    "import cv2"
   ]
  },
  {
   "cell_type": "code",
   "execution_count": 211,
   "metadata": {},
   "outputs": [],
   "source": [
    "# Usar las funciones de dibujo sobre la imagen creada en la tarea 1\n",
    "for i in range(8):\n",
    "    for j in range(8):\n",
    "        x1 = i * square_size\n",
    "        y1 = j * square_size\n",
    "        color = (0, 0, 0) if (i + j) % 2 == 0 else (255, 255, 255)\n",
    "        cv2.rectangle(chessboard, (x1, y1), (x1 + square_size, y1 + square_size), color, -1) # Función de dibujo de OpenCV"
   ]
  },
  {
   "cell_type": "code",
   "execution_count": null,
   "metadata": {},
   "outputs": [],
   "source": [
    "plt.imshow(chessboard)\n",
    "plt.axis('off')\n",
    "plt.show()"
   ]
  },
  {
   "cell_type": "markdown",
   "metadata": {},
   "source": [
    "TAREA 3.2: Resuelve una de las tareas previas (a elegir) con las funciones de dibujo de OpenCV (Mondrian)"
   ]
  },
  {
   "cell_type": "code",
   "execution_count": 213,
   "metadata": {},
   "outputs": [],
   "source": [
    "# Creamos una nueva imagen para evitar superponer las figuras\n",
    "mondrian2 = np.zeros((1000,1250,3), dtype=np.uint8)\n",
    "mondrian2[:,:,:] = 255"
   ]
  },
  {
   "cell_type": "code",
   "execution_count": 214,
   "metadata": {},
   "outputs": [],
   "source": [
    "# Añadir el color negro a los colores \n",
    "colors[\"black\"] = (0, 0, 0)\n",
    "\n",
    "# Definir las lineas y los bloques de colores con posiciones y tamaños fijos\n",
    "\n",
    "lines = [\n",
    "    (70, 0, 70, 1000, \"black\"),\n",
    "    (230, 0, 230, 1000, \"black\"),\n",
    "    (0, 290, 1250, 290, \"black\"),\n",
    "    (0, 600, 1130, 600, \"black\"),\n",
    "    (70, 800, 70, 1000, \"black\"),\n",
    "    (750, 290, 750, 1000, \"black\"),\n",
    "    (1130, 0, 1130, 1000, \"black\"),\n",
    "    (1000, 0, 1000, 800, \"black\"),\n",
    "    (70, 800, 1250, 800, \"black\"),\n",
    "    (580, 0, 580, 600, \"black\")\n",
    "]\n",
    "blocks = [\n",
    "    (80, 0, 220, 280, \"yellow\"),\n",
    "    (1010, 0, 1120, 280, \"yellow\"),\n",
    "    (1010, 610, 1120, 790, \"yellow\"),\n",
    "    (240, 810, 740, 1000, \"yellow\"),\n",
    "    (240, 0, 570, 280, \"blue\"),\n",
    "    (760, 300, 990, 590, \"blue\"),\n",
    "    (80, 810, 220, 1000, \"blue\"),\n",
    "    (590, 0, 990, 280, \"red\"),\n",
    "    (1010, 300, 1120, 590, \"red\"),\n",
    "    (240, 610, 740, 790, \"red\")\n",
    "]"
   ]
  },
  {
   "cell_type": "code",
   "execution_count": 215,
   "metadata": {},
   "outputs": [],
   "source": [
    "# Usar las funciones de dibujo sobre la imagen creada en la tarea 2 sin usar el módulo random\n",
    "for (x1, y1, x2, y2, color) in blocks:\n",
    "    # Dibujar el rectángulo relleno con el color\n",
    "    cv2.rectangle(mondrian2, (x1, y1), (x2, y2), colors[color], -1)\n",
    "\n",
    "for (x1, y1, x2, y2, color) in lines:\n",
    "    # Dibujar la linea con el color\n",
    "    cv2.line(mondrian2, (x1, y1), (x2, y2), colors[color], 20)\n"
   ]
  },
  {
   "cell_type": "code",
   "execution_count": null,
   "metadata": {},
   "outputs": [],
   "source": [
    "plt.imshow(mondrian2)\n",
    "plt.axis('off')\n",
    "plt.show()"
   ]
  },
  {
   "cell_type": "markdown",
   "metadata": {},
   "source": [
    "TAREA 4.1: Modifica de forma libre los valores de un plano de la imagen"
   ]
  },
  {
   "cell_type": "code",
   "execution_count": null,
   "metadata": {},
   "outputs": [],
   "source": [
    "# Capturar una imagen de la cámara\n",
    "cap = cv2.VideoCapture(0)  # El argumento 0 indica la cámara por defecto\n",
    "\n",
    "# Esperar hasta que la cámara esté lista\n",
    "ret, frame = cap.read()\n",
    "\n",
    "# Liberar el objeto de la cámara\n",
    "cap.release()\n",
    "\n",
    "if ret:\n",
    "    # La imagen capturada es en formato BGR (Blue, Green, Red)\n",
    "    # Modificar el plano azul (canal 0) de la imagen para cambiar sus valores\n",
    "    #frame[:, :, 0] = 0  # Aquí eliminamos el azul\n",
    "    frame[:, :, 1] = 0  # Aquí eliminamos el rojo\n",
    "    #frame[:, :, 2] = 0  # Aquí eliminamos el verde\n",
    "else:\n",
    "    print(\"No se pudo capturar la imagen.\")\n",
    "    \n",
    "# Mostrar la imagen modificada con matplotlib\n",
    "plt.imshow(cv2.cvtColor(frame, cv2.COLOR_BGR2RGB))  # Convertimos a RGB para mostrarlo con matplotlib\n",
    "plt.axis('off')\n",
    "plt.show()"
   ]
  },
  {
   "cell_type": "markdown",
   "metadata": {},
   "source": [
    "TAREA 4.2: Modifica de forma libre los valores de un plano de la imagen con un video (esc para cerrar)"
   ]
  },
  {
   "cell_type": "code",
   "execution_count": 218,
   "metadata": {},
   "outputs": [],
   "source": [
    "# Abrir la cámara\n",
    "cap = cv2.VideoCapture(0)\n",
    "\n",
    "# Control de error de acceso a la cámara\n",
    "if not cap.isOpened():\n",
    "    print(\"No se pudo acceder a la cámara\")\n",
    "    exit()\n",
    "\n",
    "if not cap.isOpened():\n",
    "    print(\"No se pudo acceder a la cámara\")\n",
    "    exit()\n",
    "\n",
    "while True:\n",
    "    # Capturar fotograma por fotograma\n",
    "    ret, frame = cap.read()\n",
    "    \n",
    "    if not ret:\n",
    "        print(\"No se pudo capturar el fotograma\")\n",
    "        break\n",
    "\n",
    "    # Modificar un plano de color (por ejemplo, eliminar el azul)\n",
    "    frame[:, :, 0] = 0  # Eliminar azul (canal 0)\n",
    "\n",
    "    # Mostrar el fotograma modificado\n",
    "    cv2.imshow('Video Modificado', frame)\n",
    "\n",
    "    # Salir del video al presionar la tecla 'ESC' (27 en ASCII)\n",
    "    if cv2.waitKey(1) & 0xFF == 27:  # 'ESC' tiene valor 27\n",
    "        break\n",
    "\n",
    "# Liberar la cámara y cerrar todas las ventanas\n",
    "cap.release()\n",
    "cv2.destroyAllWindows()"
   ]
  },
  {
   "cell_type": "markdown",
   "metadata": {},
   "source": [
    "TAREA 5.1:\n",
    "Pintar círculos en las posiciones del píxel más claro y oscuro de la imagen \n",
    "¿Si quisieras hacerlo sobre la zona 8x8 más clara/oscura?"
   ]
  },
  {
   "cell_type": "code",
   "execution_count": null,
   "metadata": {},
   "outputs": [],
   "source": [
    "cap = cv2.VideoCapture(0)\n",
    "\n",
    "ret, frame = cap.read()\n",
    "\n",
    "if ret:\n",
    "    # Convertir la imagen a escala de grises para analizar los niveles de luminosidad\n",
    "    gray_img = cv2.cvtColor(frame, cv2.COLOR_BGR2GRAY)\n",
    "    \n",
    "    # Encontrar el píxel más claro (valor máximo) y más oscuro (valor mínimo)\n",
    "    min_val, max_val, min_loc, max_loc = cv2.minMaxLoc(gray_img)\n",
    "\n",
    "    # Dibujar un círculo en el píxel más claro (máximo)\n",
    "    cv2.circle(frame, max_loc, 10, (0, 255, 0), 2)  # Círculo verde en el píxel más claro\n",
    "    \n",
    "    # Dibujar un círculo en el píxel más oscuro (mínimo)\n",
    "    cv2.circle(frame, min_loc, 10, (0, 0, 255), 2)  # Círculo rojo en el píxel más oscuro\n",
    "\n",
    "else:\n",
    "    print(\"No se pudo capturar la imagen.\")\n",
    "\n",
    "# Mostrar la imagen con los círculos\n",
    "plt.imshow(cv2.cvtColor(frame, cv2.COLOR_BGR2RGB))\n",
    "plt.axis('off')\n",
    "plt.show()"
   ]
  },
  {
   "cell_type": "markdown",
   "metadata": {},
   "source": [
    "Tarea 5.2: Sobre la zona 8x8 más clara/oscura"
   ]
  },
  {
   "cell_type": "code",
   "execution_count": null,
   "metadata": {},
   "outputs": [],
   "source": [
    "cap = cv2.VideoCapture(0)\n",
    "\n",
    "ret, frame = cap.read()\n",
    "\n",
    "if ret:\n",
    "    gray_img = cv2.cvtColor(frame, cv2.COLOR_BGR2GRAY)\n",
    "    \n",
    "    # Dimensiones de la imagen\n",
    "    h, w = gray_img.shape\n",
    "    \n",
    "    # Tamaño del bloque 8x8\n",
    "    block_size = 8\n",
    "    \n",
    "    # Variables para almacenar las posiciones más claras y oscuras\n",
    "    brightest_block_pos = None\n",
    "    darkest_block_pos = None\n",
    "    max_avg_brightness = -1\n",
    "    min_avg_brightness = 256\n",
    "    \n",
    "    # Iterar sobre la imagen en bloques de 8x8 píxeles\n",
    "    for i in range(0, h - block_size, block_size):\n",
    "        for j in range(0, w - block_size, block_size):\n",
    "            # Extraer el bloque de 8x8 píxeles\n",
    "            block = gray_img[i:i+block_size, j:j+block_size]\n",
    "            \n",
    "            # Calcular el promedio de brillo del bloque\n",
    "            avg_brightness = np.mean(block)\n",
    "            \n",
    "            # Encontrar la zona más clara\n",
    "            if avg_brightness > max_avg_brightness:\n",
    "                max_avg_brightness = avg_brightness\n",
    "                brightest_block_pos = (j, i)  # Almacenar la posición del bloque más claro\n",
    "            \n",
    "            # Encontrar la zona más oscura\n",
    "            if avg_brightness < min_avg_brightness:\n",
    "                min_avg_brightness = avg_brightness\n",
    "                darkest_block_pos = (j, i)  # Almacenar la posición del bloque más oscuro\n",
    "    \n",
    "    # Dibujar un rectángulo verde alrededor del bloque más claro (8x8)\n",
    "    if brightest_block_pos:\n",
    "        cv2.rectangle(frame, brightest_block_pos, \n",
    "                      (brightest_block_pos[0] + block_size, brightest_block_pos[1] + block_size), \n",
    "                      (0, 255, 0), 2)\n",
    "\n",
    "    # Dibujar un rectángulo rojo alrededor del bloque más oscuro (8x8)\n",
    "    if darkest_block_pos:\n",
    "        cv2.rectangle(frame, darkest_block_pos, \n",
    "                      (darkest_block_pos[0] + block_size, darkest_block_pos[1] + block_size), \n",
    "                      (0, 0, 255), 2)\n",
    "\n",
    "else:\n",
    "    print(\"No se pudo capturar la imagen.\")\n",
    "    \n",
    "# Mostrar la imagen con los círculos\n",
    "plt.imshow(cv2.cvtColor(frame, cv2.COLOR_BGR2RGB))\n",
    "plt.axis('off')\n",
    "plt.show()\n",
    "    "
   ]
  },
  {
   "cell_type": "markdown",
   "metadata": {},
   "source": [
    "TAREA 5.3:\n",
    "Pintar círculos en las posiciones del píxel más claro y oscuro de la imagen \n",
    "¿Si quisieras hacerlo sobre la zona 8x8 más clara/oscura? Con video"
   ]
  },
  {
   "cell_type": "code",
   "execution_count": 221,
   "metadata": {},
   "outputs": [],
   "source": [
    "cap = cv2.VideoCapture(0)\n",
    "\n",
    "if not cap.isOpened():\n",
    "    print(\"No se pudo acceder a la cámara\")\n",
    "    exit()\n",
    "\n",
    "while True:\n",
    "    ret, frame = cap.read()\n",
    "    \n",
    "    if not ret:\n",
    "        print(\"No se pudo capturar el fotograma\")\n",
    "        break\n",
    "\n",
    "    # Convertir la imagen a escala de grises para encontrar los valores más claros/oscuros\n",
    "    gray_img = cv2.cvtColor(frame, cv2.COLOR_BGR2GRAY)\n",
    "\n",
    "    # Encontrar el píxel más claro y el más oscuro\n",
    "    min_val, max_val, min_loc, max_loc = cv2.minMaxLoc(gray_img)\n",
    "\n",
    "    # Dibujar un círculo verde en el píxel más claro (máximo)\n",
    "    cv2.circle(frame, max_loc, 10, (0, 255, 0), 2)  # Círculo verde en el píxel más claro\n",
    "\n",
    "    # Dibujar un círculo rojo en el píxel más oscuro (mínimo)\n",
    "    cv2.circle(frame, min_loc, 10, (0, 0, 255), 2)  # Círculo rojo en el píxel más oscuro\n",
    "\n",
    "    # --- Para la zona 8x8 más clara y más oscura ---\n",
    "    # Dimensiones de la imagen\n",
    "    h, w = gray_img.shape\n",
    "    \n",
    "    # Tamaño del bloque 8x8\n",
    "    block_size = 8\n",
    "    \n",
    "    # Variables para almacenar las posiciones más claras y oscuras\n",
    "    brightest_block_pos = None\n",
    "    darkest_block_pos = None\n",
    "    max_avg_brightness = -1\n",
    "    min_avg_brightness = 256\n",
    "    \n",
    "    # Iterar sobre la imagen en bloques de 8x8 píxeles\n",
    "    for i in range(0, h - block_size, block_size):\n",
    "        for j in range(0, w - block_size, block_size):\n",
    "            # Extraer el bloque de 8x8 píxeles\n",
    "            block = gray_img[i:i+block_size, j:j+block_size]\n",
    "            \n",
    "            # Calcular el promedio de brillo del bloque\n",
    "            avg_brightness = np.mean(block)\n",
    "            \n",
    "            # Encontrar la zona más clara\n",
    "            if avg_brightness > max_avg_brightness:\n",
    "                max_avg_brightness = avg_brightness\n",
    "                brightest_block_pos = (j, i)  # Almacenar la posición del bloque más claro\n",
    "            \n",
    "            # Encontrar la zona más oscura\n",
    "            if avg_brightness < min_avg_brightness:\n",
    "                min_avg_brightness = avg_brightness\n",
    "                darkest_block_pos = (j, i)  # Almacenar la posición del bloque más oscuro\n",
    "\n",
    "    # Dibujar un rectángulo verde alrededor del bloque más claro (8x8)\n",
    "    if brightest_block_pos:\n",
    "        cv2.rectangle(frame, brightest_block_pos, \n",
    "                      (brightest_block_pos[0] + block_size, brightest_block_pos[1] + block_size), \n",
    "                      (0, 255, 0), 2)\n",
    "\n",
    "    # Dibujar un rectángulo rojo alrededor del bloque más oscuro (8x8)\n",
    "    if darkest_block_pos:\n",
    "        cv2.rectangle(frame, darkest_block_pos, \n",
    "                      (darkest_block_pos[0] + block_size, darkest_block_pos[1] + block_size), \n",
    "                      (0, 0, 255), 2)\n",
    "\n",
    "    # Mostrar el fotograma con los círculos/rectángulos\n",
    "    cv2.imshow('Video Modificado', frame)\n",
    "\n",
    "    # Salir del video al presionar la tecla 'ESC' (27 en ASCII)\n",
    "    if cv2.waitKey(1) & 0xFF == 27:  # 'ESC' tiene valor 27\n",
    "        break\n",
    "\n",
    "# Liberar la cámara y cerrar todas las ventanas\n",
    "cap.release()\n",
    "cv2.destroyAllWindows()"
   ]
  },
  {
   "cell_type": "markdown",
   "metadata": {},
   "source": [
    "TAREA 6: Llevar a cabo una propuesta propia de pop art"
   ]
  },
  {
   "cell_type": "code",
   "execution_count": null,
   "metadata": {},
   "outputs": [],
   "source": [
    "cap = cv2.VideoCapture(0)\n",
    "ret, frame = cap.read()\n",
    "cap.release()\n",
    "\n",
    "if ret:\n",
    "    # Redimensionar la imagen capturada para trabajar más fácilmente\n",
    "    frame = cv2.resize(frame, (300, 300))\n",
    "\n",
    "    # Crear una función para aplicar efectos de pop art\n",
    "    def apply_pop_art_effects(image):\n",
    "        # Generar 4 versiones diferentes de la imagen con efectos\n",
    "\n",
    "        # 1. Imagen original saturada\n",
    "        img1 = cv2.convertScaleAbs(image, alpha=1.5, beta=50)\n",
    "\n",
    "        # 2. Imagen con los colores invertidos\n",
    "        img2 = cv2.bitwise_not(image)\n",
    "\n",
    "        # 3. Imagen con filtro de colores brillantes\n",
    "        img3 = image.copy()\n",
    "        img3[:, :, 0] = np.clip(img3[:, :, 0] + 100, 0, 255)\n",
    "\n",
    "        # 4. Imagen en blanco y negro con alto contraste\n",
    "        img4 = cv2.cvtColor(image, cv2.COLOR_BGR2GRAY)\n",
    "        img4 = cv2.cvtColor(img4, cv2.COLOR_GRAY2BGR)\n",
    "        img4 = cv2.convertScaleAbs(img4, alpha=2, beta=0)\n",
    "\n",
    "        # Devolver las imágenes procesadas\n",
    "        return img1, img2, img3, img4\n",
    "\n",
    "    # Aplicar los efectos Pop Art\n",
    "    img1, img2, img3, img4 = apply_pop_art_effects(frame)\n",
    "\n",
    "    # Combinar las cuatro imágenes en un collage de 2x2\n",
    "    top_row = np.hstack((img1, img2))  # Combina img1 y img2 lado a lado\n",
    "    bottom_row = np.hstack((img3, img4))  # Combina img3 y img4 lado a lado\n",
    "    pop_art_collage = np.vstack((top_row, bottom_row))  # Combina las dos filas una sobre otra\n",
    "\n",
    "else:\n",
    "    print(\"No se pudo capturar la imagen.\")\n",
    "\n",
    "# Mostrar la imagen Pop Art creada usando matplotlib\n",
    "plt.imshow(cv2.cvtColor(pop_art_collage, cv2.COLOR_BGR2RGB))\n",
    "plt.axis('off')\n",
    "plt.show()"
   ]
  },
  {
   "cell_type": "markdown",
   "metadata": {},
   "source": [
    "AMPLIACIÓN: Mosaico circular"
   ]
  },
  {
   "cell_type": "code",
   "execution_count": 223,
   "metadata": {},
   "outputs": [],
   "source": [
    "# Definimos una función para comprobar que se nos da un número mayor que cero\n",
    "def int_positivo():\n",
    "    while True:\n",
    "        try:\n",
    "            valor = int(input(\"Seleccione el radio de los circulos\"))\n",
    "            if valor > 0:\n",
    "                return valor\n",
    "            else:\n",
    "                print(\"El número debe ser mayor que 0.\")\n",
    "        except ValueError:\n",
    "            print(\"Error: Por favor ingresa un número entero válido.\")"
   ]
  },
  {
   "cell_type": "code",
   "execution_count": 224,
   "metadata": {},
   "outputs": [],
   "source": [
    "vid = cv2.VideoCapture(0)\n",
    "\n",
    "# Petición al usuario para que introduzca el radio de los circulos\n",
    "radio = int_positivo()\n",
    "while(True):\n",
    "    ret, frame = vid.read()\n",
    "    if ret == True:\n",
    "        h,w,c=frame.shape\n",
    "        # Calcula cuántos círculos caben a lo largo de la anchura y la altura del fotograma\n",
    "        circulos_w = w//(radio*2)\n",
    "        circulos_h = h//(radio*2)\n",
    "\n",
    "        # Recorre la cuadrícula de círculos a dibujar\n",
    "        for i in range(0,circulos_w):\n",
    "            for j in range(0,circulos_h):\n",
    "                k=i*(radio*2)+radio\n",
    "                l=j*(radio*2)+radio\n",
    "                # Verifica que las coordenadas estén dentro del tamaño del fotograma\n",
    "                if l <= h and k <= w: \n",
    "                    color = (int(frame[l,k,0]), int(frame[l, k, 1]), int(frame[l, k, 2]))\n",
    "                cv2.circle(frame,(k,l),radio,color,-1)\n",
    "        cv2.imshow(\"Cam\",frame)\n",
    "\n",
    "    if cv2.waitKey(20) == 27:\n",
    "        break\n",
    "\n",
    "# Libera el objeto de captura\n",
    "vid.release()\n",
    "# Destruye ventanas\n",
    "cv2.destroyAllWindows()"
   ]
  }
 ],
 "metadata": {
  "kernelspec": {
   "display_name": "VC_P1",
   "language": "python",
   "name": "python3"
  },
  "language_info": {
   "codemirror_mode": {
    "name": "ipython",
    "version": 3
   },
   "file_extension": ".py",
   "mimetype": "text/x-python",
   "name": "python",
   "nbconvert_exporter": "python",
   "pygments_lexer": "ipython3",
   "version": "3.11.5"
  }
 },
 "nbformat": 4,
 "nbformat_minor": 2
}
